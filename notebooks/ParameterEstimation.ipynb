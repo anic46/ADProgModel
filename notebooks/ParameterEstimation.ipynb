{
 "cells": [
  {
   "cell_type": "code",
   "execution_count": null,
   "metadata": {},
   "outputs": [],
   "source": [
    "%load_ext autoreload\n",
    "%autoreload 2"
   ]
  },
  {
   "cell_type": "code",
   "execution_count": null,
   "metadata": {},
   "outputs": [],
   "source": [
    "import pandas as pd\n",
    "import numpy as np\n",
    "import matplotlib.pyplot as plt\n",
    "import seaborn as sns\n",
    "\n",
    "from sklearn import datasets, linear_model\n",
    "from sklearn.linear_model import LinearRegression\n",
    "import statsmodels.api as sm\n",
    "from scipy import stats\n",
    "\n",
    "from scipy.stats import ranksums"
   ]
  },
  {
   "cell_type": "code",
   "execution_count": null,
   "metadata": {},
   "outputs": [],
   "source": [
    "import os\n",
    "working_dir = os.getcwd()\n",
    "if working_dir.endswith('\\\\ADProgModel\\\\notebooks'):\n",
    "    os.chdir('../')"
   ]
  },
  {
   "cell_type": "code",
   "execution_count": null,
   "metadata": {},
   "outputs": [],
   "source": [
    "import src.models.param_estimation_v1 as prestm"
   ]
  },
  {
   "cell_type": "markdown",
   "metadata": {},
   "source": [
    "### Read data from CSV and create data array for each patient"
   ]
  },
  {
   "cell_type": "code",
   "execution_count": null,
   "metadata": {},
   "outputs": [],
   "source": [
    "datatype = 'adni' # 'adni', 'synthetic'\n",
    "sheetname = 'train'\n",
    "\n",
    "if datatype == 'adni':\n",
    "    filename = 'dataset/processed/adni_split0.xls'\n",
    "elif datatype == 'synthetic':\n",
    "    filename = 'dataset/processed/synthetic_split0.xls'\n",
    "\n",
    "df = pd.read_excel(filename, sheet_name=sheetname)"
   ]
  },
  {
   "cell_type": "markdown",
   "metadata": {},
   "source": [
    "### All patients synthetic data"
   ]
  },
  {
   "cell_type": "markdown",
   "metadata": {},
   "source": [
    "#### Parameter estimation per subject"
   ]
  },
  {
   "cell_type": "code",
   "execution_count": null,
   "metadata": {},
   "outputs": [],
   "source": [
    "subname = 'RID'\n",
    "reg1_av45 = 'reg1_av45'\n",
    "reg2_av45 = 'reg2_av45'\n",
    "reg1_mri = 'reg1_mri'\n",
    "reg2_mri = 'reg2_mri'\n",
    "cogvar = 'cogsc'\n",
    "agename = 'demog1'\n",
    "tcname = 'Years'\n",
    "apoestatus = 'demog2'\n",
    "\n",
    "dfcolnms = prestm.ColumnNames(subname, tcname, agename, cogvar, reg1_mri, reg2_mri, reg1_av45, reg2_av45)\n",
    "\n",
    "admat = np.matrix([[0,1],[1,0]])\n",
    "dticlinfo = prestm.DTIMat(admat)\n"
   ]
  },
  {
   "cell_type": "code",
   "execution_count": null,
   "metadata": {
    "scrolled": true
   },
   "outputs": [],
   "source": [
    "pmdf = prestm.compute_all_params_woY_perpat(df, dfcolnms, dticlinfo)"
   ]
  },
  {
   "cell_type": "markdown",
   "metadata": {},
   "source": [
    "#### Parameter estimation for groups of subjects"
   ]
  },
  {
   "cell_type": "code",
   "execution_count": null,
   "metadata": {},
   "outputs": [],
   "source": [
    "subname = 'RID'\n",
    "reg1_av45 = 'reg1_av45'\n",
    "reg2_av45 = 'reg2_av45'\n",
    "reg1_mri = 'reg1_mri'\n",
    "reg2_mri = 'reg2_mri'\n",
    "cogvar = 'cogsc'\n",
    "agename = 'demog1'\n",
    "tcname = 'Years'\n",
    "apoestatus = 'demog2'\n",
    "\n",
    "dfcolnms = prestm.ColumnNames(subname, tcname, agename, cogvar, reg1_mri, reg2_mri, reg1_av45, reg2_av45)\n",
    "\n",
    "admat = np.matrix([[0,1],[1,0]])\n",
    "dticlinfo = prestm.DTIMat(admat)"
   ]
  },
  {
   "cell_type": "code",
   "execution_count": null,
   "metadata": {},
   "outputs": [],
   "source": [
    "demog_feat_list = ['demog1','demog2']\n",
    "grouptypedf = df.loc[(df.Years==0), demog_feat_list].value_counts().reset_index()[demog_feat_list]\n",
    "\n",
    "pmdf, grouptypedf = prestm.compute_all_params_woY_bygroup(df, dfcolnms, dticlinfo, grouptypedf)"
   ]
  },
  {
   "cell_type": "markdown",
   "metadata": {},
   "source": [
    "### All parameter estimation for ADNI data"
   ]
  },
  {
   "cell_type": "markdown",
   "metadata": {},
   "source": [
    "#### Parameter estimation for a person"
   ]
  },
  {
   "cell_type": "code",
   "execution_count": null,
   "metadata": {},
   "outputs": [],
   "source": [
    "subname = 'RID'\n",
    "reg1_av45 = 'HIPPOCAMPAL_SUVR'\n",
    "reg2_av45 = 'FRONTAL_SUVR'\n",
    "reg1_mri = 'mri_HIPPO_norm'\n",
    "reg2_mri = 'mri_FRONT_norm'\n",
    "cogvar = 'MMSE_norm'\n",
    "agename = 'CurAGE'\n",
    "tcname = 'Years'\n",
    "\n",
    "dfcolnms = prestm.ColumnNames(subname, tcname, agename, cogvar, reg1_mri, reg2_mri, reg1_av45, reg2_av45)\n",
    "\n",
    "admat = np.matrix([[0,1],[1,0]])\n",
    "dticlinfo = prestm.DTIMat(admat)\n"
   ]
  },
  {
   "cell_type": "code",
   "execution_count": null,
   "metadata": {
    "scrolled": true
   },
   "outputs": [],
   "source": [
    "pmdf = prestm.compute_all_params_woY_perpat(df, dfcolnms, dticlinfo)"
   ]
  },
  {
   "cell_type": "code",
   "execution_count": null,
   "metadata": {},
   "outputs": [],
   "source": [
    "parname_list = ['beta_estm','alpha1_estm','alpha2_gamma_estm']\n",
    "xlabel_list = [r'$\\hat{\\beta}$', r'$\\hat{\\alpha_1}$', r'$\\hat{\\alpha_{2}\\gamma}$']\n",
    "xlabel_dict = dict(zip(parname_list, xlabel_list))\n",
    "\n",
    "ax = plt.figure(figsize=(12,4))\n",
    "for ii in range(len(parname_list)):\n",
    "    parname = parname_list[ii]\n",
    "    myseries = pmdf[parname]\n",
    "    xlabel = xlabel_dict[parname]\n",
    "    \n",
    "    myseries_adj = myseries[myseries.between(myseries.quantile(.05), myseries.quantile(.95))] \n",
    "\n",
    "    plt.subplot(1,3,ii+1)\n",
    "    myseries_adj.hist()\n",
    "    plt.xticks(fontsize=14)\n",
    "    plt.yticks(fontsize=14)\n",
    "    plt.xlabel(xlabel, fontsize=15)\n",
    "    \n",
    "    if ii==0:\n",
    "        plt.ylabel('# individuals', fontsize=15)\n",
    "\n",
    "plt.tight_layout()\n",
    "plt.show()"
   ]
  },
  {
   "cell_type": "markdown",
   "metadata": {},
   "source": [
    "##### Studying relationship between "
   ]
  },
  {
   "cell_type": "code",
   "execution_count": null,
   "metadata": {},
   "outputs": [],
   "source": [
    "demog_list = ['CurAGE','PTEDUCAT','PTGENDER_num','APOEPOS']\n",
    "pmdf = pd.concat((pmdf.set_index('RID'), \n",
    "                  df.loc[df.VISCODE=='bl'].set_index('RID')[demog_list]), axis=1)\n",
    "pmdf.reset_index(inplace=True)"
   ]
  },
  {
   "cell_type": "code",
   "execution_count": null,
   "metadata": {},
   "outputs": [],
   "source": [
    "dict_parname_list = []\n",
    "dict_demog_list = []\n",
    "dict_pval_list = []\n",
    "\n",
    "for parname in parname_list:\n",
    "    \n",
    "    for demog_name in demog_list:\n",
    "\n",
    "        if demog_name in ['PTEDUCAT','CurAGE']:\n",
    "            X = pmdf[demog_name].values\n",
    "            y = pmdf[parname].values\n",
    "            X2 = sm.add_constant(X)\n",
    "\n",
    "            est = sm.OLS(y, X2)\n",
    "            est2 = est.fit()\n",
    "\n",
    "            assoc_pvalue = est2.pvalues[1]\n",
    "\n",
    "        elif demog_name in ['PTGENDER_num', 'APOEPOS']:\n",
    "            ignore, assoc_pvalue = ranksums(pmdf.loc[(pmdf[demog_name]==0),parname], \n",
    "                                      pmdf.loc[(pmdf[demog_name]==1),parname])\n",
    "\n",
    "        dict_parname_list.append(parname)\n",
    "        dict_demog_list.append(demog_name)\n",
    "        dict_pval_list.append(assoc_pvalue)\n",
    "    \n",
    "resdf = pd.DataFrame(dict({'param':dict_parname_list, \n",
    "                                      'demog':dict_demog_list, \n",
    "                                      'pval':dict_pval_list}))"
   ]
  },
  {
   "cell_type": "markdown",
   "metadata": {},
   "source": [
    "#### Parameter estimation for a group"
   ]
  },
  {
   "cell_type": "code",
   "execution_count": null,
   "metadata": {},
   "outputs": [],
   "source": [
    "subname = 'RID'\n",
    "reg1_av45 = 'HIPPOCAMPAL_SUVR'\n",
    "reg2_av45 = 'FRONTAL_SUVR'\n",
    "reg1_mri = 'mri_HIPPO_norm'\n",
    "reg2_mri = 'mri_FRONT_norm'\n",
    "cogvar = 'MMSE_norm'\n",
    "agename = 'CurAGE'\n",
    "tcname = 'Years'\n",
    "demog1 = 'PTGENDER'\n",
    "demog2 = 'APOEPOS'\n",
    "\n",
    "dfcolnms = prestm.ColumnNames(subname, tcname, agename, cogvar, reg1_mri, reg2_mri, reg1_av45, reg2_av45)\n",
    "\n",
    "admat = np.matrix([[0,1],[1,0]])\n",
    "dticlinfo = prestm.DTIMat(admat)"
   ]
  },
  {
   "cell_type": "code",
   "execution_count": null,
   "metadata": {},
   "outputs": [],
   "source": [
    "demog_feat_list = ['APOEPOS','PTGENDER_num']\n",
    "grouptypedf = df[demog_feat_list].value_counts().reset_index()[demog_feat_list]\n",
    "\n",
    "pmdf, grouptypedf = prestm.compute_all_params_woY_bygroup(df, dfcolnms, dticlinfo, grouptypedf)"
   ]
  },
  {
   "cell_type": "markdown",
   "metadata": {},
   "source": [
    "#### Create files with parameter estimates of ADNI data"
   ]
  },
  {
   "cell_type": "code",
   "execution_count": null,
   "metadata": {},
   "outputs": [],
   "source": [
    "loadfname = 'adni_split0'\n",
    "df = pd.read_excel('dataset/processed/%s.xls'%(loadfname), sheet_name='train')"
   ]
  },
  {
   "cell_type": "code",
   "execution_count": null,
   "metadata": {},
   "outputs": [],
   "source": [
    "save_to_excel_flag = 1"
   ]
  },
  {
   "cell_type": "code",
   "execution_count": null,
   "metadata": {},
   "outputs": [],
   "source": [
    "subname = 'RID'\n",
    "reg1_av45 = 'HIPPOCAMPAL_SUVR'\n",
    "reg2_av45 = 'FRONTAL_SUVR'\n",
    "reg1_mri = 'mri_HIPPO_norm'\n",
    "reg2_mri = 'mri_FRONT_norm'\n",
    "\n",
    "agename = 'CurAGE'\n",
    "tcname = 'Years'\n",
    "demog1 = 'PTGENDER'\n",
    "demog2 = 'APOEPOS'\n",
    "\n",
    "admat = np.matrix([[0,1],[1,0]])\n",
    "dticlinfo = prestm.DTIMat(admat)"
   ]
  },
  {
   "cell_type": "code",
   "execution_count": null,
   "metadata": {
    "scrolled": true
   },
   "outputs": [],
   "source": [
    "grouping_cases_list = [['PTGENDER','APOEPOS']]\n",
    "\n",
    "pmdf_col_list = ['RID','beta_estm','alpha1_estm','alpha2_gamma_estm','tpo_estm']\n",
    "\n",
    "train_param_dict = {}\n",
    "\n",
    "savefname = 'dataset/processed/%s_parameters.xls'%(loadfname)\n",
    "writer = pd.ExcelWriter(savefname)\n",
    "\n",
    "for cogvar in ['MMSE_norm']:\n",
    "\n",
    "    dfcolnms = prestm.ColumnNames(subname, tcname, agename, cogvar, reg1_mri, reg2_mri, reg1_av45, reg2_av45)\n",
    "\n",
    "    for demog_feat_list in grouping_cases_list:\n",
    "\n",
    "        # case number\n",
    "        dictkey = cogvar + '_' + '_'.join(demog_feat_list)\n",
    "        print(dictkey)\n",
    "\n",
    "        # get dataframe of cases for given demog features and find their parameters\n",
    "        grouptypedf = df[demog_feat_list].value_counts().reset_index()[demog_feat_list]\n",
    "        pmdf, grouptypedf = prestm.compute_all_params_woY_bygroup(df, dfcolnms, dticlinfo, grouptypedf)\n",
    "        \n",
    "        # adjustment to groupetypedf for AD subjects\n",
    "        if 'DX_bl' in demog_feat_list:\n",
    "            adtypedf = grouptypedf.loc[grouptypedf.DX_bl=='LMCI'].copy() # use the parameter estimates from LMCI folks\n",
    "            adtypedf['DX_bl'] = 'AD'\n",
    "            grouptypedf = pd.concat((grouptypedf, adtypedf), axis=0, ignore_index=True)\n",
    "        \n",
    "        # include the patients from valid and test set with parameters assigned based on their grouping\n",
    "        for sheetname in ['valid','test']:\n",
    "            # load the subject data\n",
    "            vdf = pd.read_excel('dataset/processed/%s.xls'%(loadfname), sheet_name=sheetname)\n",
    "\n",
    "            # merge the dataframes based on the demog variables used for grouping \n",
    "            vdf.set_index(demog_feat_list, inplace=True)\n",
    "            nvdf = vdf.merge(grouptypedf.set_index(demog_feat_list), \n",
    "                              how='left', left_index=True, right_index=True).reset_index()\n",
    "\n",
    "            # add tpo estimation information\n",
    "            nvdf['tpo_estm'] = np.floor(nvdf['CurAGE']) - 50 # based on 2017 Alz and Dem study; their number was 55\n",
    "\n",
    "            # merge with parameter df \n",
    "            pmdf = pd.concat((pmdf, \n",
    "                              nvdf.loc[nvdf.Years==0, pmdf_col_list]), axis=0, ignore_index=True)\n",
    "\n",
    "        # add this to the excel sheet\n",
    "        if save_to_excel_flag == 1:\n",
    "            pmdf.to_excel(writer, sheet_name=dictkey, index=False)\n",
    "        \n",
    "writer.save()"
   ]
  },
  {
   "cell_type": "code",
   "execution_count": null,
   "metadata": {},
   "outputs": [],
   "source": []
  }
 ],
 "metadata": {
  "kernelspec": {
   "display_name": "Python 3",
   "language": "python",
   "name": "python3"
  },
  "language_info": {
   "codemirror_mode": {
    "name": "ipython",
    "version": 3
   },
   "file_extension": ".py",
   "mimetype": "text/x-python",
   "name": "python",
   "nbconvert_exporter": "python",
   "pygments_lexer": "ipython3",
   "version": "3.8.5"
  }
 },
 "nbformat": 4,
 "nbformat_minor": 4
}
