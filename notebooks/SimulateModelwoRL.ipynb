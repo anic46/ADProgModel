{
 "cells": [
  {
   "cell_type": "code",
   "execution_count": null,
   "metadata": {},
   "outputs": [],
   "source": [
    "import numpy as np\n",
    "import pandas as pd\n",
    "import seaborn as sns\n",
    "import matplotlib.pyplot as plt"
   ]
  },
  {
   "cell_type": "code",
   "execution_count": null,
   "metadata": {},
   "outputs": [],
   "source": [
    "import os\n",
    "working_dir = os.getcwd()\n",
    "if working_dir.endswith('\\\\ADProgModel\\\\notebooks'):\n",
    "    os.chdir('../')"
   ]
  },
  {
   "cell_type": "markdown",
   "metadata": {},
   "source": [
    "#### Model functions"
   ]
  },
  {
   "cell_type": "code",
   "execution_count": null,
   "metadata": {
    "scrolled": true
   },
   "outputs": [],
   "source": [
    "def get_info_and_cog(reg1_mri, reg2_mri, gamma_, lambda_):\n",
    "\n",
    "    reg1_info_range = np.arange(0,10.5, step=0.1)\n",
    "    reg2_info_range = np.arange(0,10.5, step=0.1)\n",
    "\n",
    "    C_task = 10\n",
    "\n",
    "    current_reward_max = -np.Inf\n",
    "    reward_list = []\n",
    "    \n",
    "    for info1 in reg1_info_range:\n",
    "        for info2 in reg2_info_range:\n",
    "            cog_val = info1 + info2\n",
    "            Y_val = np.array([gamma_*info1/reg1_mri, gamma_*info2/reg2_mri])\n",
    "            \n",
    "            power_factor = np.clip(-C_task + cog_val, a_min=0, a_max=None)\n",
    "            factor = 100**power_factor\n",
    "            reward_val = -(np.abs(C_task - cog_val)*factor*lambda_ + Y_val.sum()) \n",
    "            \n",
    "            reward_list.append(reward_val)\n",
    "            \n",
    "            if reward_val > current_reward_max:\n",
    "                best_info_dist = np.array([info1, info2])\n",
    "                best_cog_val = cog_val\n",
    "                best_Y_val = Y_val\n",
    "                current_reward_max = reward_val\n",
    "                \n",
    "    return best_info_dist, best_cog_val, best_Y_val"
   ]
  },
  {
   "cell_type": "code",
   "execution_count": null,
   "metadata": {},
   "outputs": [],
   "source": [
    "# deterioration associated with metabolism and pathology\n",
    "\n",
    "def get_new_structure(D_old, Y_V, X_V_old, phi_old, beta, alpha_1, alpha_2):\n",
    "    # evolution of amyloid deposition over time\n",
    "    # dD/dt = -beta*H*D\n",
    "    D_new = D_old - beta* H @ D_old\n",
    "    phi_new = phi_old + D_new\n",
    "    \n",
    "    # new health of brain regions\n",
    "    delta_X = -alpha_1*D_new -alpha_2*Y_V\n",
    "    X_V_new = X_V_old + delta_X\n",
    "    \n",
    "    return X_V_new, D_new, phi_new"
   ]
  },
  {
   "cell_type": "code",
   "execution_count": null,
   "metadata": {},
   "outputs": [],
   "source": [
    "# change in cognition and health over time\n",
    "\n",
    "def simulate_trajectories(dat_X_V, dat_D, beta_, alpha1_, alpha2_, gamma_, lambda_):\n",
    "\n",
    "    total_time = 10\n",
    "    num_regions = len(dat_X_V)\n",
    "    \n",
    "    infodist_mat = np.zeros((num_regions, total_time+1))\n",
    "    struct_mat = np.zeros((num_regions, total_time+1))\n",
    "    func_mat = np.zeros((num_regions, total_time+1))\n",
    "    amyloid_mat = np.zeros((num_regions, total_time+1))\n",
    "    cognition_vec = np.zeros(total_time+1)\n",
    "\n",
    "    dat_phi_old = dat_D.copy()\n",
    "    dat_X_V_old = dat_X_V.copy()\n",
    "    dat_D_old = dat_D.copy()\n",
    "    \n",
    "    for tm in range(total_time+1):\n",
    "        \n",
    "        # cognition value\n",
    "        # check whether any dat_X_V is zero\n",
    "        if np.any(dat_X_V_old <= 0):\n",
    "            break\n",
    "        else:\n",
    "            dat_I_V, cog_val, dat_Y_V = get_info_and_cog(dat_X_V_old[0], dat_X_V_old[1], gamma_, lambda_)\n",
    "        \n",
    "        # store data\n",
    "        struct_mat[:,tm] = dat_X_V_old\n",
    "        amyloid_mat[:,tm] = dat_phi_old\n",
    "        infodist_mat[:,tm] = dat_I_V\n",
    "        func_mat[:,tm] = dat_Y_V\n",
    "        cognition_vec[tm] = cog_val\n",
    "        \n",
    "        # update health\n",
    "        dat_X_V_new, dat_D_new, dat_phi_new = get_new_structure(dat_D_old, dat_Y_V, dat_X_V_old, dat_phi_old, beta_, alpha1_, alpha2_)\n",
    "        \n",
    "        # update variables\n",
    "        dat_X_V_old = dat_X_V_new.copy()\n",
    "        dat_D_old = dat_D_new.copy()\n",
    "        dat_phi_old = dat_phi_new.copy()\n",
    "        \n",
    "    return struct_mat, func_mat, infodist_mat, amyloid_mat, cognition_vec"
   ]
  },
  {
   "cell_type": "code",
   "execution_count": null,
   "metadata": {},
   "outputs": [],
   "source": [
    "def get_D_init(phi_t, beta_, tpo_):\n",
    "    lamb, U = np.linalg.eig(H)\n",
    "    diag_array = np.diag([lamb[0]*np.exp(-lamb[0]*beta_*tpo_)/(1-np.exp(-lamb[0]*beta_*tpo_)), 1/(beta_*tpo_)])\n",
    "    mult = U.dot(diag_array).dot(U.T)\n",
    "    mult = U.dot(diag_array).dot(U.T)\n",
    "    D0_init = beta_*(mult).dot(phi_t.T)   \n",
    "    \n",
    "    return D0_init"
   ]
  },
  {
   "cell_type": "markdown",
   "metadata": {},
   "source": [
    "### ADNI"
   ]
  },
  {
   "cell_type": "markdown",
   "metadata": {},
   "source": [
    "#### Load the data"
   ]
  },
  {
   "cell_type": "code",
   "execution_count": null,
   "metadata": {},
   "outputs": [],
   "source": [
    "# load the data\n",
    "splitnum = 0\n",
    "file_name = 'adni_split%d.xls'%(splitnum)\n",
    "par_file_name = 'adni_split%d_parameters.xls'%(splitnum)\n",
    "save_full_file_name = 'output/control_mod_adni_split%d.xlsx'%(splitnum)\n",
    "\n",
    "testdf = pd.read_excel('dataset/processed/'+file_name, sheet_name='test')\n",
    "paramdf = pd.read_excel('dataset/processed/'+par_file_name, sheet_name='MMSE_norm_PTGENDER_APOEPOS')\n",
    "\n",
    "cogcolname = 'MMSE_norm_pred'"
   ]
  },
  {
   "cell_type": "code",
   "execution_count": null,
   "metadata": {
    "scrolled": true
   },
   "outputs": [],
   "source": [
    "gamma_val = 1\n",
    "lambda_val = 1\n",
    "dat_X_E = np.array([[0,1],[1,0]]) # adjacency matrix\n",
    "H = np.diag(np.sum(dat_X_E, axis=1)) - dat_X_E\n",
    "mri_colname = ['mri_FRONT_norm', 'mri_HIPPO_norm']\n",
    "suvr_colname = ['FRONTAL_SUVR', 'HIPPOCAMPAL_SUVR']\n",
    "\n",
    "resdf = pd.DataFrame({})\n",
    "\n",
    "for patname in testdf.RID.unique():\n",
    "    print(patname)\n",
    "    \n",
    "    # get parameters\n",
    "    tpo_val = paramdf.loc[paramdf.RID==patname].tpo_estm.values[0]\n",
    "    beta_val = paramdf.loc[paramdf.RID==patname].beta_estm.values[0]\n",
    "    alpha1_val = paramdf.loc[paramdf.RID==patname].alpha1_estm.values[0]\n",
    "    alpha2_val = paramdf.loc[paramdf.RID==patname].alpha2_gamma_estm.values[0]/gamma_val\n",
    "\n",
    "    # compute initial X\n",
    "    subdata_X_V = testdf.loc[(testdf.RID==patname)&(testdf.Years==0), mri_colname].values[0]\n",
    "\n",
    "    # compute the D value\n",
    "    subdata_phi = testdf.loc[(testdf.RID==patname)&(testdf.Years==0), suvr_colname].values[0]\n",
    "    subdata_D = get_D_init(subdata_phi, beta_val, tpo_val)\n",
    "\n",
    "    # compute trajectory from non-RL model\n",
    "    X_V_traj, Y_V_traj, I_V_traj, phi_traj, cogn_traj = simulate_trajectories(subdata_X_V, subdata_D, \n",
    "                                                                   beta_val, alpha1_val, alpha2_val, gamma_val, lambda_val)\n",
    "\n",
    "    # store results in a df\n",
    "    subresdf = pd.DataFrame({'RID':11*[patname], 'Years':np.arange(0,11),\n",
    "                             'reg1_mri_pred': X_V_traj[0,:], \n",
    "                             'reg2_mri_pred': X_V_traj[1,:], \n",
    "                             'reg1_fdg_pred': Y_V_traj[0,:], \n",
    "                             'reg2_fdg_pred': Y_V_traj[1,:], \n",
    "                             'reg1_info_pred': I_V_traj[0,:], \n",
    "                             'reg2_info_pred': I_V_traj[1,:], \n",
    "                             cogcolname: cogn_traj})\n",
    "\n",
    "    # combine results with other subjects results\n",
    "    resdf = pd.concat((resdf, subresdf), axis=0, ignore_index=True)"
   ]
  },
  {
   "cell_type": "code",
   "execution_count": null,
   "metadata": {},
   "outputs": [],
   "source": [
    "fresdf = testdf.merge(resdf, how='right', on=['RID','Years'])"
   ]
  },
  {
   "cell_type": "code",
   "execution_count": null,
   "metadata": {},
   "outputs": [],
   "source": [
    "save_full_file_name"
   ]
  },
  {
   "cell_type": "code",
   "execution_count": null,
   "metadata": {},
   "outputs": [],
   "source": [
    "fresdf.to_excel(save_full_file_name, index=False)"
   ]
  },
  {
   "cell_type": "markdown",
   "metadata": {},
   "source": [
    "### Synthetic data"
   ]
  },
  {
   "cell_type": "code",
   "execution_count": null,
   "metadata": {},
   "outputs": [],
   "source": [
    "gamma_val = 1\n",
    "lambda_val = 8\n",
    "\n",
    "# load the data\n",
    "splitnum = 0\n",
    "file_name = 'synthetic_split%d.xls'%(splitnum)\n",
    "save_full_file_name = 'output/control_mod_synthetic_split%d_lambda%d.xlsx'%(splitnum, lambda_val)\n",
    "\n",
    "testdf = pd.read_excel('dataset/processed/'+file_name, sheet_name='test')\n",
    "\n",
    "cogcolname = 'cogsc_pred'"
   ]
  },
  {
   "cell_type": "code",
   "execution_count": null,
   "metadata": {},
   "outputs": [],
   "source": [
    "dat_X_E = np.array([[0,1],[1,0]]) # adjacency matrix\n",
    "H = np.diag(np.sum(dat_X_E, axis=1)) - dat_X_E\n",
    "mri_colname = ['reg1_mri', 'reg2_mri']\n",
    "suvr_colname = ['reg1_av45', 'reg2_av45']\n",
    "\n",
    "resdf = pd.DataFrame({})\n",
    "\n",
    "for patname in testdf.RID.unique():\n",
    "    print(patname)\n",
    "    \n",
    "    # get parameters\n",
    "    tpo_val = testdf.loc[(testdf.RID==patname) & (testdf.Years==0)].tpo.values[0] + 0.5\n",
    "    beta_val = testdf.loc[(testdf.RID==patname) & (testdf.Years==0)].beta.values[0]\n",
    "    alpha1_val = testdf.loc[(testdf.RID==patname) & (testdf.Years==0)].alpha1.values[0]\n",
    "    alpha2_val = testdf.loc[(testdf.RID==patname) & (testdf.Years==0)].alpha2.values[0]\n",
    "\n",
    "    # compute initial X\n",
    "    subdata_X_V = testdf.loc[(testdf.RID==patname)&(testdf.Years==0), mri_colname].values[0]\n",
    "\n",
    "    # compute the D value\n",
    "    subdata_phi = testdf.loc[(testdf.RID==patname)&(testdf.Years==0), suvr_colname].values[0]\n",
    "    subdata_D = get_D_init(subdata_phi, beta_val, tpo_val)\n",
    "\n",
    "    # compute trajectory from non-RL model\n",
    "    X_V_traj, Y_V_traj, I_V_traj, phi_traj, cogn_traj = simulate_trajectories(subdata_X_V, subdata_D, \n",
    "                                                                   beta_val, alpha1_val, alpha2_val, gamma_val, lambda_val)\n",
    "\n",
    "    # store results in a df\n",
    "    subresdf = pd.DataFrame({'RID':11*[patname], 'Years':np.arange(0,11),\n",
    "                             'reg1_mri_pred': X_V_traj[0,:], \n",
    "                             'reg2_mri_pred': X_V_traj[1,:], \n",
    "                             'reg1_fdg_pred': Y_V_traj[0,:], \n",
    "                             'reg2_fdg_pred': Y_V_traj[1,:], \n",
    "                             'reg1_info_pred': I_V_traj[0,:], \n",
    "                             'reg2_info_pred': I_V_traj[1,:], \n",
    "                             cogcolname: cogn_traj})\n",
    "\n",
    "    # combine results with other subjects results\n",
    "    resdf = pd.concat((resdf, subresdf), axis=0, ignore_index=True)"
   ]
  },
  {
   "cell_type": "code",
   "execution_count": null,
   "metadata": {},
   "outputs": [],
   "source": [
    "fresdf = testdf.merge(resdf, how='right', on=['RID','Years'])"
   ]
  },
  {
   "cell_type": "code",
   "execution_count": null,
   "metadata": {},
   "outputs": [],
   "source": [
    "fresdf.to_excel(save_full_file_name, index=False)"
   ]
  }
 ],
 "metadata": {
  "kernelspec": {
   "display_name": "Python 3",
   "language": "python",
   "name": "python3"
  },
  "language_info": {
   "codemirror_mode": {
    "name": "ipython",
    "version": 3
   },
   "file_extension": ".py",
   "mimetype": "text/x-python",
   "name": "python",
   "nbconvert_exporter": "python",
   "pygments_lexer": "ipython3",
   "version": "3.8.5"
  }
 },
 "nbformat": 4,
 "nbformat_minor": 4
}
