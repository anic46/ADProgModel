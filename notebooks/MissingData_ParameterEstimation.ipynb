{
 "cells": [
  {
   "cell_type": "code",
   "execution_count": null,
   "metadata": {},
   "outputs": [],
   "source": [
    "%load_ext autoreload\n",
    "%autoreload 2"
   ]
  },
  {
   "cell_type": "code",
   "execution_count": null,
   "metadata": {},
   "outputs": [],
   "source": [
    "import pandas as pd\n",
    "import numpy as np\n",
    "import matplotlib.pyplot as plt\n",
    "import seaborn as sns\n",
    "\n",
    "from sklearn import datasets, linear_model\n",
    "from sklearn.linear_model import LinearRegression\n",
    "import statsmodels.api as sm\n",
    "from scipy import stats\n",
    "\n",
    "from scipy.stats import ranksums"
   ]
  },
  {
   "cell_type": "code",
   "execution_count": null,
   "metadata": {},
   "outputs": [],
   "source": [
    "import os\n",
    "working_dir = os.getcwd()\n",
    "if working_dir.endswith('\\\\ADProgModel\\\\notebooks'):\n",
    "    os.chdir('../')"
   ]
  },
  {
   "cell_type": "code",
   "execution_count": null,
   "metadata": {},
   "outputs": [],
   "source": [
    "import src.models.param_estimation_v1 as prestm"
   ]
  },
  {
   "cell_type": "code",
   "execution_count": null,
   "metadata": {},
   "outputs": [],
   "source": [
    "def get_errordf(pmdf, df):\n",
    "    \n",
    "    # comebine estimted and ground truth data\n",
    "    pmerrdf = pd.concat((pmdf.set_index('RID'),\n",
    "                         df.loc[(df.Years==0),['RID','beta','tpo','alpha1','alpha2','gamma']].set_index('RID')), axis=1)\n",
    "\n",
    "    pmerrdf['alpha2_gamma'] = pmerrdf['alpha2']*pmerrdf['gamma']\n",
    "    pmerrdf.reset_index(inplace=True)\n",
    "    \n",
    "    # compute squared error\n",
    "    for param_name in ['beta','alpha1','alpha2_gamma','tpo']:\n",
    "        pmerrdf['%s_se'%(param_name)] = (pmerrdf[param_name] - pmerrdf['%s_estm'%(param_name)])**2\n",
    "        \n",
    "    return pmerrdf"
   ]
  },
  {
   "cell_type": "markdown",
   "metadata": {},
   "source": [
    "### Read data from CSV and create data array for each patient"
   ]
  },
  {
   "cell_type": "code",
   "execution_count": null,
   "metadata": {},
   "outputs": [],
   "source": [
    "datatype = 'synthetic' # 'adni', 'synthetic'\n",
    "sheetname = 'train'\n",
    "\n",
    "if datatype == 'adni':\n",
    "    filename = 'dataset/processed/adni_split0.xls'\n",
    "elif datatype == 'synthetic':\n",
    "    filename = 'dataset/processed/synthetic_split0.xls'\n",
    "    \n",
    "\n",
    "df = pd.read_excel(filename, sheet_name=sheetname)"
   ]
  },
  {
   "cell_type": "markdown",
   "metadata": {},
   "source": [
    "### Parameter estimation with missing data"
   ]
  },
  {
   "cell_type": "markdown",
   "metadata": {},
   "source": [
    "##### Create synthetic dataset with missing data"
   ]
  },
  {
   "cell_type": "code",
   "execution_count": null,
   "metadata": {},
   "outputs": [],
   "source": [
    "# get percentage of samples missing per year\n",
    "adtraindf = pd.read_excel('dataset/processed/adni_split0.xls', \n",
    "                       sheet_name='train')\n",
    "advaldf = pd.read_excel('dataset/processed/adni_split0.xls', \n",
    "                       sheet_name='valid')\n",
    "adtestdf = pd.read_excel('dataset/processed/adni_split0.xls', \n",
    "                       sheet_name='test')\n",
    "addf = pd.concat((adtraindf, advaldf, adtestdf), axis=0, ignore_index=True)\n",
    "\n",
    "miss_prob_series = 1 - addf.Years.value_counts()/len(addf.RID.unique())"
   ]
  },
  {
   "cell_type": "code",
   "execution_count": null,
   "metadata": {},
   "outputs": [],
   "source": [
    "# create synthetic dataset with equivalent missing values per year\n",
    "drop_index_list = []\n",
    "\n",
    "for yearnum in range(1,11):\n",
    "    drop_index_list.append(df.loc[df.Years==yearnum].sample(frac=miss_prob_series[yearnum], \n",
    "                                     replace=False, random_state=2).index)\n",
    "\n",
    "drop_index_list = np.array([item2 for item1 in drop_index_list for item2 in item1])"
   ]
  },
  {
   "cell_type": "code",
   "execution_count": null,
   "metadata": {},
   "outputs": [],
   "source": [
    "missdf = df.drop(index=drop_index_list).copy()"
   ]
  },
  {
   "cell_type": "code",
   "execution_count": null,
   "metadata": {},
   "outputs": [],
   "source": [
    "# cross check that the number of missing values per year are similar\n",
    "pd.concat((missdf.Years.value_counts()/len(missdf.RID.unique()), 1-miss_prob_series), axis=1)"
   ]
  },
  {
   "cell_type": "code",
   "execution_count": null,
   "metadata": {},
   "outputs": [],
   "source": [
    "# remove subjects due to low visit coutns\n",
    "viscounts = missdf.RID.value_counts()\n",
    "drop_pats = viscounts.index[viscounts<3]\n",
    "missdf.drop(index=missdf.index[missdf.RID.isin(drop_pats)], inplace=True)"
   ]
  },
  {
   "cell_type": "markdown",
   "metadata": {},
   "source": [
    "##### Parameter estimation for different cases and their comparison"
   ]
  },
  {
   "cell_type": "code",
   "execution_count": null,
   "metadata": {},
   "outputs": [],
   "source": [
    "subname = 'RID'\n",
    "reg1_av45 = 'reg1_av45'\n",
    "reg2_av45 = 'reg2_av45'\n",
    "reg1_mri = 'reg1_mri'\n",
    "reg2_mri = 'reg2_mri'\n",
    "cogvar = 'cogsc'\n",
    "agename = 'demog1'\n",
    "tcname = 'Years'\n",
    "apoestatus = 'demog2'\n",
    "\n",
    "dfcolnms = prestm.ColumnNames(subname, tcname, agename, cogvar, reg1_mri, reg2_mri, reg1_av45, reg2_av45)\n",
    "\n",
    "admat = np.matrix([[0,1],[1,0]])\n",
    "dticlinfo = prestm.DTIMat(admat)\n",
    "\n",
    "demog_feat_list = ['demog1','demog2']\n",
    "grouptypedf = df.loc[(df.Years==0), demog_feat_list].value_counts().reset_index()[demog_feat_list]"
   ]
  },
  {
   "cell_type": "code",
   "execution_count": null,
   "metadata": {
    "scrolled": true
   },
   "outputs": [],
   "source": [
    "# clean case where entire data is available\n",
    "group_nomiss_pmdf, ignore = prestm.compute_all_params_woY_bygroup(df, dfcolnms, dticlinfo, grouptypedf)\n",
    "\n",
    "# missing data with per subject estimation\n",
    "perpat_pmdf = prestm.compute_all_params_woY_perpat(missdf, dfcolnms, dticlinfo)\n",
    "\n",
    "# missing data with group estimation\n",
    "group_pmdf, ignore = prestm.compute_all_params_woY_bygroup(missdf, dfcolnms, dticlinfo, grouptypedf)\n"
   ]
  },
  {
   "cell_type": "code",
   "execution_count": null,
   "metadata": {},
   "outputs": [],
   "source": [
    "group_nomiss_pmerrdf = get_errordf(group_nomiss_pmdf, df)\n",
    "group_nomiss_pmerrdf['type'] = 'group_nomiss'\n",
    "\n",
    "perpat_pmerrdf = get_errordf(perpat_pmdf, missdf)\n",
    "perpat_pmerrdf['type'] = 'perpat_miss'\n",
    "\n",
    "group_pmerrdf = get_errordf(group_pmdf, missdf)\n",
    "group_pmerrdf['type'] = 'group_miss'"
   ]
  },
  {
   "cell_type": "code",
   "execution_count": null,
   "metadata": {},
   "outputs": [],
   "source": [
    "par_se_list = ['RID','type','beta_se','alpha1_se','alpha2_gamma_se']\n",
    "errordf = pd.concat((perpat_pmerrdf[par_se_list],\n",
    "                     group_pmerrdf[par_se_list]), axis=0, ignore_index=True)"
   ]
  },
  {
   "cell_type": "code",
   "execution_count": null,
   "metadata": {},
   "outputs": [],
   "source": [
    "ax = sns.barplot(x='variable', y='value', hue='type',\n",
    "            data=errordf.melt(id_vars=['RID','type'], value_vars=['beta_se', 'alpha1_se', 'alpha2_gamma_se']))\n",
    "plt.xticks(ticks=[0,1,2], labels=[r'$\\hat{\\beta}$',r'$\\hat{\\alpha_1}}$',r'$\\hat{\\alpha_2 \\gamma}$'], fontsize=14)\n",
    "plt.yticks(fontsize=14)\n",
    "plt.xlabel('Parameter', fontsize=15)\n",
    "plt.ylabel('Squared error', fontsize=15)\n",
    "plt.semilogy()\n",
    "handles, _ = ax.get_legend_handles_labels()\n",
    "ax.legend(handles, [\"Individual\", \"Group\"], fontsize=14)\n",
    "\n",
    "plt.show()"
   ]
  }
 ],
 "metadata": {
  "kernelspec": {
   "display_name": "Python 3",
   "language": "python",
   "name": "python3"
  },
  "language_info": {
   "codemirror_mode": {
    "name": "ipython",
    "version": 3
   },
   "file_extension": ".py",
   "mimetype": "text/x-python",
   "name": "python",
   "nbconvert_exporter": "python",
   "pygments_lexer": "ipython3",
   "version": "3.8.5"
  }
 },
 "nbformat": 4,
 "nbformat_minor": 4
}
